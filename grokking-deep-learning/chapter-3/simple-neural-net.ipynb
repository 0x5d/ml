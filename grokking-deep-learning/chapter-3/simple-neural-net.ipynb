{
 "cells": [
  {
   "cell_type": "markdown",
   "metadata": {},
   "source": [
    "# Chapter 3\n",
    "## A simple neural network"
   ]
  },
  {
   "cell_type": "code",
   "execution_count": 2,
   "metadata": {},
   "outputs": [
    {
     "name": "stdout",
     "output_type": "stream",
     "text": [
      "0.85\n"
     ]
    }
   ],
   "source": [
    "# One neuron. What it does is amplify the input times the weight.\n",
    "# Like a volume knob.\n",
    "\n",
    "def neural_network(input, weight):\n",
    "    prediction = input * weight\n",
    "    return prediction\n",
    "\n",
    "number_of_toes = [8.5, 9.5, 10, 9]\n",
    "input = number_of_toes[0]\n",
    "weight = 0.1\n",
    "pred = neural_network(input, weight)\n",
    "print(pred) "
   ]
  },
  {
   "cell_type": "markdown",
   "metadata": {},
   "source": [
    "So: more toes, more chances of winning.\n",
    "But toes alone aren't what makes a team win a game. How can we take into account more inputs?"
   ]
  },
  {
   "cell_type": "code",
   "execution_count": 7,
   "metadata": {},
   "outputs": [
    {
     "name": "stdout",
     "output_type": "stream",
     "text": [
      "0.98\n"
     ]
    }
   ],
   "source": [
    "def neural_network(input, weights):\n",
    "    prediction = weighted_sum(input, weights)\n",
    "    return prediction\n",
    "\n",
    "def weighted_sum(xs, ys):\n",
    "    pairs = zip(xs, ys)\n",
    "        \n",
    "    return reduce(lambda res, xy: res + xy[0] * xy[1], pairs, 0)\n",
    "\n",
    "# avg. number of toes per team\n",
    "toes = [8.5, 9.5, 9.9, 9.0]\n",
    "# percentage of games won\n",
    "wlrec = [0.65, 0.8, 0.8, 0.9]\n",
    "# number of fans\n",
    "nfans = [1.2, 1.3, 0.5, 1.0]\n",
    "\n",
    "input = [toes[0], wlrec[0], nfans[0]]\n",
    "weights = [0.1, 0.2, 0]\n",
    "\n",
    "pred = neural_network(input, weights)\n",
    "print(pred)"
   ]
  },
  {
   "cell_type": "markdown",
   "metadata": {},
   "source": [
    "Here's the same thing, but with NumPy: "
   ]
  },
  {
   "cell_type": "code",
   "execution_count": 2,
   "metadata": {},
   "outputs": [
    {
     "name": "stdout",
     "output_type": "stream",
     "text": [
      "0.9800000000000001\n"
     ]
    }
   ],
   "source": [
    "import numpy as np\n",
    "\n",
    "def neural_network(input, weights):\n",
    "    # a weighted sum is really just a dot product\n",
    "    return input.dot(weights)\n",
    "\n",
    "toes = np.array([8.5, 9.5, 9.9, 9.0])\n",
    "wlrec = np.array([0.65, 0.8, 0.8, 0.9])\n",
    "nfans = np.array([1.2, 1.3, 0.5, 1.0])\n",
    "\n",
    "input = np.array([toes[0], wlrec[0], nfans[0]])\n",
    "weights = np.array([0.1, 0.2, 0])\n",
    "\n",
    "prediction = neural_network(input, weights)\n",
    "print(prediction)"
   ]
  },
  {
   "cell_type": "markdown",
   "metadata": {},
   "source": [
    "## Single input, multiple outputs (predictions)\n",
    "With a single input, we can predict n things. In this case, let's suppose we're predicting the % of hurt players, whether they'll win, and whether they're sad afterwards."
   ]
  },
  {
   "cell_type": "code",
   "execution_count": 6,
   "metadata": {},
   "outputs": [
    {
     "name": "stdout",
     "output_type": "stream",
     "text": [
      "[0.195, 0.13, 0.5850000000000001]\n"
     ]
    }
   ],
   "source": [
    "def neural_network(input, weights):\n",
    "    return ele_mul(input, weights)\n",
    "\n",
    "# element-wise multiplication, or scalar-vector multiplication\n",
    "def ele_mul(input, weights):\n",
    "    return list(map(lambda w: input * w, weights))\n",
    "\n",
    "wlrec = [0.65, 0.8, 0.8, 0.9]\n",
    "\n",
    "input = wlrec[0]\n",
    "weights = [0.3, 0.2, 0.9]\n",
    "\n",
    "pred = neural_network(input, weights)\n",
    "print(pred)"
   ]
  },
  {
   "cell_type": "markdown",
   "metadata": {},
   "source": [
    "## Multiple inputs, multiple outputs\n"
   ]
  },
  {
   "cell_type": "code",
   "execution_count": 1,
   "metadata": {},
   "outputs": [
    {
     "name": "stdout",
     "output_type": "stream",
     "text": [
      "[0.555, 0.9800000000000001, 0.9650000000000001]\n"
     ]
    }
   ],
   "source": [
    "def neural_network(input, weights):\n",
    "    return vect_mat_mul(input, weights)\n",
    "\n",
    "def vect_mat_mul(vect, matrix):\n",
    "    return [weighted_sum(vect, row) for row in matrix]\n",
    "\n",
    "\n",
    "def weighted_sum(xs, ys):\n",
    "    return sum([xy[0] * xy[1] for xy in zip(xs, ys)])\n",
    "\n",
    "           #toes %win #fans\n",
    "weights = [[0.1, 0.1, -0.3],  # hurt?\n",
    "           [0.1, 0.2,  0.0],  # win?\n",
    "           [0.0, 1.3,  0.1]]  # sad?\n",
    "\n",
    "toes = [8.5, 9.5, 9.9, 9.0]\n",
    "wlrec = [0.65, 0.8, 0.8, 0.9]\n",
    "nfans = [1.2, 1.3, 0.5, 1.0]\n",
    "\n",
    "input = [toes[0], wlrec[0], nfans[0]]\n",
    "pred = neural_network(input, weights)\n",
    "print(pred)"
   ]
  },
  {
   "cell_type": "markdown",
   "metadata": {},
   "source": [
    "## Multiple layers (w/ NumPy)"
   ]
  },
  {
   "cell_type": "code",
   "execution_count": 7,
   "metadata": {},
   "outputs": [
    {
     "name": "stdout",
     "output_type": "stream",
     "text": [
      "hidden weights:  (3, 3)\n",
      "output weights:  (3, 3)\n",
      "input:  (3,)\n",
      "prediction:  (3,)\n",
      "[0.2135 0.145  0.5065]\n"
     ]
    }
   ],
   "source": [
    "import numpy as np\n",
    "\n",
    "def neural_network(input, hidden_weights, output_weights):\n",
    "    hid = input.dot(hidden_weights)\n",
    "    return hid.dot(output_weights)\n",
    "\n",
    "\n",
    "hidden_weights = np.array([\n",
    "    # toes % win # fans\n",
    "    [0.1, 0.2, -0.1], # hid[0]\n",
    "    [-0.1, 0.1, 0.9], # hid[1]\n",
    "    [0.1, 0.4, 0.1]   # hid[2]\n",
    "]).T # transpose\n",
    "print(\"hidden weights: \", hidden_weights.shape)\n",
    "\n",
    "output_weights = np.array([\n",
    "    # hid[0] hid[1] hid[2]\n",
    "    [0.3, 1.1, -0.3], # hurt?\n",
    "    [0.1, 0.2, 0.0],  # win?\n",
    "    [0.0, 1.3, 0.1]   # sad?\n",
    "]).T\n",
    "print(\"output weights: \", output_weights.shape)\n",
    "\n",
    "toes = np.array([8.5, 9.5, 9.9, 9.0])\n",
    "wlrec = np.array([0.65, 0.8, 0.8, 0.9])\n",
    "nfans = np.array([1.2, 1.3, 0.5, 1.0])\n",
    "\n",
    "input = np.array([toes[0], wlrec[0], nfans[0]])\n",
    "print(\"input: \", input.shape)\n",
    "\n",
    "pred = neural_network(input, hidden_weights, output_weights)\n",
    "print(\"prediction: \", pred.shape)\n",
    "print(pred)"
   ]
  },
  {
   "cell_type": "code",
   "execution_count": 5,
   "metadata": {
    "collapsed": true
   },
   "outputs": [
    {
     "name": "stdout",
     "output_type": "stream",
     "text": [
      "[0.86  0.295 1.23 ]\n"
     ]
    }
   ],
   "source": []
  },
  {
   "cell_type": "code",
   "execution_count": null,
   "metadata": {},
   "outputs": [],
   "source": []
  }
 ],
 "metadata": {
  "kernelspec": {
   "display_name": "Python 3",
   "language": "python",
   "name": "python3"
  },
  "language_info": {
   "codemirror_mode": {
    "name": "ipython",
    "version": 3
   },
   "file_extension": ".py",
   "mimetype": "text/x-python",
   "name": "python",
   "nbconvert_exporter": "python",
   "pygments_lexer": "ipython3",
   "version": "3.7.3"
  }
 },
 "nbformat": 4,
 "nbformat_minor": 2
}
